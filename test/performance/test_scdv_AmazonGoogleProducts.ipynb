{
 "cells": [
  {
   "cell_type": "code",
   "execution_count": 2,
   "metadata": {},
   "outputs": [],
   "source": [
    "%load_ext autoreload\n",
    "%autoreload 2"
   ]
  },
  {
   "cell_type": "code",
   "execution_count": 3,
   "metadata": {},
   "outputs": [],
   "source": [
    "import pandas as pd\n",
    "\n",
    "import numpy as np\n",
    "\n",
    "import sys"
   ]
  },
  {
   "cell_type": "code",
   "execution_count": 4,
   "metadata": {},
   "outputs": [],
   "source": [
    "sys.path.append(\"../../\")"
   ]
  },
  {
   "cell_type": "code",
   "execution_count": 5,
   "metadata": {},
   "outputs": [],
   "source": [
    "import logging"
   ]
  },
  {
   "cell_type": "code",
   "execution_count": 6,
   "metadata": {},
   "outputs": [],
   "source": [
    "logger = logging.getLogger()"
   ]
  },
  {
   "cell_type": "code",
   "execution_count": 7,
   "metadata": {},
   "outputs": [],
   "source": [
    "logger.setLevel(logging.INFO)"
   ]
  },
  {
   "cell_type": "code",
   "execution_count": 8,
   "metadata": {},
   "outputs": [],
   "source": [
    "handler = logging.StreamHandler(sys.stdout)"
   ]
  },
  {
   "cell_type": "code",
   "execution_count": 9,
   "metadata": {},
   "outputs": [],
   "source": [
    "logger.addHandler(handler)"
   ]
  },
  {
   "cell_type": "code",
   "execution_count": 10,
   "metadata": {},
   "outputs": [],
   "source": [
    "from benchdata.amazon_google_products import AmazonGoogleData"
   ]
  },
  {
   "cell_type": "code",
   "execution_count": 11,
   "metadata": {},
   "outputs": [],
   "source": [
    "data = AmazonGoogleData()"
   ]
  },
  {
   "cell_type": "code",
   "execution_count": 12,
   "metadata": {},
   "outputs": [],
   "source": [
    "data.load()"
   ]
  },
  {
   "cell_type": "code",
   "execution_count": 13,
   "metadata": {},
   "outputs": [],
   "source": [
    "data.default_fillna()"
   ]
  },
  {
   "cell_type": "code",
   "execution_count": 14,
   "metadata": {},
   "outputs": [],
   "source": [
    "import fastText"
   ]
  },
  {
   "cell_type": "code",
   "execution_count": 15,
   "metadata": {},
   "outputs": [],
   "source": [
    "from zipfile import ZipFile"
   ]
  },
  {
   "cell_type": "code",
   "execution_count": 62,
   "metadata": {},
   "outputs": [],
   "source": [
    "fast_text_model_path = \"../../data/pretrained/wiki-news-300d-1M-subword.bin\""
   ]
  },
  {
   "cell_type": "code",
   "execution_count": 63,
   "metadata": {},
   "outputs": [],
   "source": [
    "model = fastText.load_model(fast_text_model_path)"
   ]
  },
  {
   "cell_type": "code",
   "execution_count": 64,
   "metadata": {},
   "outputs": [
    {
     "data": {
      "text/plain": [
       "array([-0.09542164,  0.06696253,  0.02227047, -0.00352219,  0.06714147,\n",
       "        0.12475587,  0.03342403,  0.3083979 , -0.15685362, -0.0595038 ],\n",
       "      dtype=float32)"
      ]
     },
     "execution_count": 64,
     "metadata": {},
     "output_type": "execute_result"
    }
   ],
   "source": [
    "model.get_word_vector(\"I\")[:10]"
   ]
  },
  {
   "cell_type": "code",
   "execution_count": 29,
   "metadata": {},
   "outputs": [],
   "source": [
    "from feature import pipelines"
   ]
  },
  {
   "cell_type": "code",
   "execution_count": 66,
   "metadata": {},
   "outputs": [],
   "source": [
    "from models import scdv"
   ]
  },
  {
   "cell_type": "code",
   "execution_count": 67,
   "metadata": {},
   "outputs": [
    {
     "data": {
      "text/plain": [
       "[{'amazon': 'title', 'google': 'name'},\n",
       " {'amazon': 'description', 'google': 'description'},\n",
       " {'amazon': 'manufacturer', 'google': 'manufacturer'},\n",
       " {'amazon': 'price', 'google': 'price'}]"
      ]
     },
     "execution_count": 67,
     "metadata": {},
     "output_type": "execute_result"
    }
   ],
   "source": [
    "data.KEY_COLUMN_PAIRS"
   ]
  },
  {
   "cell_type": "code",
   "execution_count": 20,
   "metadata": {},
   "outputs": [],
   "source": [
    "key_columns = [list(pair_dict.values()) for pair_dict in data.KEY_COLUMN_PAIRS[:-1]]"
   ]
  },
  {
   "cell_type": "code",
   "execution_count": 69,
   "metadata": {},
   "outputs": [],
   "source": [
    "pipeline_func = lambda : pipelines.ConcatPipeline([(\"scdv\", scdv.Scdv(word_emb_func=model.get_word_vector, n_components=10, sparse_threshold_p=0.04, verbose=2))])"
   ]
  },
  {
   "cell_type": "code",
   "execution_count": 70,
   "metadata": {},
   "outputs": [],
   "source": [
    "pipeline_func_map_list = [pipeline_func for i in range(len(key_columns))]"
   ]
  },
  {
   "cell_type": "code",
   "execution_count": 71,
   "metadata": {},
   "outputs": [],
   "source": [
    "extractor = pipelines.KeyColumnFeatureExtractor(key_column_correspondences=key_columns, pipeline_func_map_list=pipeline_func_map_list,  \n",
    "                                                pipeline_save_dir=\"../result\")"
   ]
  },
  {
   "cell_type": "code",
   "execution_count": 72,
   "metadata": {},
   "outputs": [
    {
     "name": "stdout",
     "output_type": "stream",
     "text": [
      "extracting features from ['title', 'name']\n",
      "extracting features from ['title', 'name']\n",
      "creating dictionary and computing idf...\n",
      "creating dictionary and computing idf...\n",
      "clustering in-vocabulary words (size: 5500) ...\n",
      "clustering in-vocabulary words (size: 5500) ...\n",
      "Initialization 0\n",
      "  Iteration 0\t time lapse 0.86342s\t ll change inf\n",
      "  Iteration 10\t time lapse 3.38334s\t ll change 0.01330\n",
      "  Iteration 20\t time lapse 3.32513s\t ll change 0.01565\n",
      "  Iteration 30\t time lapse 3.25625s\t ll change 0.01170\n",
      "Initialization converged: True\t time lapse 11.15978s\t ll 978.24924\n",
      "getting word-topic_vectors...\n",
      "getting word-topic_vectors...\n",
      "computing threshold to make sparse...\n",
      "computing threshold to make sparse...\n",
      "fitting has finished!!\n",
      "fitting has finished!!\n",
      "extracting features from ['description', 'description']\n",
      "extracting features from ['description', 'description']\n",
      "creating dictionary and computing idf...\n",
      "creating dictionary and computing idf...\n",
      "clustering in-vocabulary words (size: 15910) ...\n",
      "clustering in-vocabulary words (size: 15910) ...\n",
      "Initialization 0\n",
      "  Iteration 0\t time lapse 2.73324s\t ll change inf\n",
      "  Iteration 10\t time lapse 15.74665s\t ll change 0.22592\n",
      "  Iteration 20\t time lapse 15.40627s\t ll change 0.04351\n",
      "  Iteration 30\t time lapse 15.39754s\t ll change 0.00437\n",
      "  Iteration 40\t time lapse 15.64203s\t ll change 0.00569\n",
      "Initialization converged: True\t time lapse 74.45428s\t ll 893.93466\n",
      "getting word-topic_vectors...\n",
      "getting word-topic_vectors...\n",
      "computing threshold to make sparse...\n",
      "computing threshold to make sparse...\n",
      "fitting has finished!!\n",
      "fitting has finished!!\n",
      "extracting features from ['manufacturer', 'manufacturer']\n",
      "extracting features from ['manufacturer', 'manufacturer']\n",
      "creating dictionary and computing idf...\n",
      "creating dictionary and computing idf...\n",
      "clustering in-vocabulary words (size: 389) ...\n",
      "clustering in-vocabulary words (size: 389) ...\n",
      "Initialization 0\n",
      "  Iteration 0\t time lapse 0.07608s\t ll change inf\n",
      "Initialization converged: True\t time lapse 0.10632s\t ll 1437.95408\n",
      "getting word-topic_vectors...\n",
      "getting word-topic_vectors...\n",
      "computing threshold to make sparse...\n",
      "computing threshold to make sparse...\n",
      "fitting has finished!!\n",
      "fitting has finished!!\n"
     ]
    },
    {
     "data": {
      "text/plain": [
       "<feature.pipelines.KeyColumnFeatureExtractor at 0x7ff564baf630>"
      ]
     },
     "execution_count": 72,
     "metadata": {},
     "output_type": "execute_result"
    }
   ],
   "source": [
    "extractor.fit([data.amazon_df, data.google_products_df])"
   ]
  },
  {
   "cell_type": "code",
   "execution_count": 73,
   "metadata": {},
   "outputs": [],
   "source": [
    "feature_matrixs = extractor.transform([data.amazon_df, data.google_products_df]) "
   ]
  },
  {
   "cell_type": "code",
   "execution_count": 74,
   "metadata": {},
   "outputs": [
    {
     "data": {
      "text/plain": [
       "2"
      ]
     },
     "execution_count": 74,
     "metadata": {},
     "output_type": "execute_result"
    }
   ],
   "source": [
    "len(feature_matrixs)"
   ]
  },
  {
   "cell_type": "code",
   "execution_count": 22,
   "metadata": {},
   "outputs": [],
   "source": [
    "import scipy as sp"
   ]
  },
  {
   "cell_type": "code",
   "execution_count": 23,
   "metadata": {},
   "outputs": [],
   "source": [
    "import scipy.sparse as sparse"
   ]
  },
  {
   "cell_type": "code",
   "execution_count": 77,
   "metadata": {},
   "outputs": [],
   "source": [
    "amazon_feature_matrix = sp.sparse.hstack(feature_matrixs[0])"
   ]
  },
  {
   "cell_type": "code",
   "execution_count": 78,
   "metadata": {},
   "outputs": [],
   "source": [
    "google_feature_matrix = sp.sparse.hstack(feature_matrixs[1])"
   ]
  },
  {
   "cell_type": "code",
   "execution_count": 79,
   "metadata": {},
   "outputs": [
    {
     "data": {
      "text/plain": [
       "(1363, 9000)"
      ]
     },
     "execution_count": 79,
     "metadata": {},
     "output_type": "execute_result"
    }
   ],
   "source": [
    "amazon_feature_matrix.shape"
   ]
  },
  {
   "cell_type": "code",
   "execution_count": 80,
   "metadata": {},
   "outputs": [],
   "source": [
    "from pathlib import Path"
   ]
  },
  {
   "cell_type": "code",
   "execution_count": 81,
   "metadata": {},
   "outputs": [],
   "source": [
    "data_names = [\"amazon\", \"google\"] \n",
    "for i, feature_set in enumerate(feature_matrixs):\n",
    "    for j, feature in enumerate(feature_set):\n",
    "        sp.sparse.save_npz(\"../result/{}_{}_scdv.npz\".format(data_names[i], key_columns[j][i]), feature)"
   ]
  },
  {
   "cell_type": "code",
   "execution_count": 82,
   "metadata": {},
   "outputs": [
    {
     "name": "stdout",
     "output_type": "stream",
     "text": [
      "amazon_description_scdv.npz\r\n",
      "amazon_manufacturer_scdv.npz\r\n",
      "amazon_title_scdv.npz\r\n",
      "description_description_concat_model.pickle\r\n",
      "google_description_scdv.npz\r\n",
      "google_manufacturer_scdv.npz\r\n",
      "google_name_scdv.npz\r\n",
      "manufacturer_manufacturer_concat_model.pickle\r\n",
      "title_name_concat_model.pickle\r\n"
     ]
    }
   ],
   "source": [
    "!ls ../result"
   ]
  },
  {
   "cell_type": "markdown",
   "metadata": {},
   "source": [
    "# check cosine similarity of same entity"
   ]
  },
  {
   "cell_type": "code",
   "execution_count": 16,
   "metadata": {},
   "outputs": [],
   "source": [
    "index_pair = data.get_perfect_match_index(True)"
   ]
  },
  {
   "cell_type": "code",
   "execution_count": 17,
   "metadata": {},
   "outputs": [
    {
     "data": {
      "text/plain": [
       "array([[   0, 1878],\n",
       "       [   2, 1881],\n",
       "       [   3, 1879]])"
      ]
     },
     "execution_count": 17,
     "metadata": {},
     "output_type": "execute_result"
    }
   ],
   "source": [
    "index_pair[:3]"
   ]
  },
  {
   "cell_type": "code",
   "execution_count": 18,
   "metadata": {},
   "outputs": [],
   "source": [
    "data_names = [\"amazon\", \"google\"]"
   ]
  },
  {
   "cell_type": "code",
   "execution_count": 24,
   "metadata": {},
   "outputs": [],
   "source": [
    "feature_matrixs = [[sparse.load_npz(\"../result/{}_{}_scdv.npz\".format(data_name, key_columns[j][i])) for j in range(len(key_columns))] for \n",
    "                   i, data_name in enumerate(data_names)]"
   ]
  },
  {
   "cell_type": "code",
   "execution_count": 25,
   "metadata": {},
   "outputs": [],
   "source": [
    "from scipy.spatial.distance import cosine"
   ]
  },
  {
   "cell_type": "code",
   "execution_count": 26,
   "metadata": {},
   "outputs": [],
   "source": [
    "feature_matrixs = [sparse.hstack(features).tocsr() for features in feature_matrixs]"
   ]
  },
  {
   "cell_type": "code",
   "execution_count": 27,
   "metadata": {},
   "outputs": [
    {
     "data": {
      "text/plain": [
       "(1363, 9000)"
      ]
     },
     "execution_count": 27,
     "metadata": {},
     "output_type": "execute_result"
    }
   ],
   "source": [
    "feature_matrixs[0].shape"
   ]
  },
  {
   "cell_type": "code",
   "execution_count": 28,
   "metadata": {},
   "outputs": [
    {
     "data": {
      "text/plain": [
       "(3226, 9000)"
      ]
     },
     "execution_count": 28,
     "metadata": {},
     "output_type": "execute_result"
    }
   ],
   "source": [
    "feature_matrixs[1].shape"
   ]
  },
  {
   "cell_type": "code",
   "execution_count": 91,
   "metadata": {},
   "outputs": [],
   "source": [
    "def distance_between_entity(row):\n",
    "    return cosine(feature_matrixs[0][row[0]].todense(), feature_matrixs[1][row[1]].todense())"
   ]
  },
  {
   "cell_type": "code",
   "execution_count": 92,
   "metadata": {},
   "outputs": [],
   "source": [
    "match_cosine_similariies = np.apply_along_axis(arr=index_pair, func1d=distance_between_entity, axis=1)"
   ]
  },
  {
   "cell_type": "code",
   "execution_count": 93,
   "metadata": {},
   "outputs": [
    {
     "data": {
      "text/plain": [
       "array([0.79246606, 0.19694187, 0.10017452, 0.4706178 , 0.32126646,\n",
       "       0.15312591, 0.29731743, 0.12780001, 0.13305809, 0.82574749])"
      ]
     },
     "execution_count": 93,
     "metadata": {},
     "output_type": "execute_result"
    }
   ],
   "source": [
    "match_cosine_similariies[:10]"
   ]
  },
  {
   "cell_type": "code",
   "execution_count": 94,
   "metadata": {},
   "outputs": [],
   "source": [
    "import itertools"
   ]
  },
  {
   "cell_type": "code",
   "execution_count": 95,
   "metadata": {},
   "outputs": [],
   "source": [
    "import random"
   ]
  },
  {
   "cell_type": "code",
   "execution_count": 96,
   "metadata": {},
   "outputs": [],
   "source": [
    "all_pair_nums = data.amazon_df.shape[0] * data.google_products_df.shape[0] "
   ]
  },
  {
   "cell_type": "code",
   "execution_count": 97,
   "metadata": {},
   "outputs": [
    {
     "data": {
      "text/plain": [
       "4397038"
      ]
     },
     "execution_count": 97,
     "metadata": {},
     "output_type": "execute_result"
    }
   ],
   "source": [
    "all_pair_nums"
   ]
  },
  {
   "cell_type": "code",
   "execution_count": 98,
   "metadata": {},
   "outputs": [],
   "source": [
    "unmatch_sampled_cosine_similarities = [cosine(feature_matrixs[0][i].todense(), feature_matrixs[1][j].todense()) for i, j in itertools.product(range(data.amazon_df.shape[0]), range(data.google_products_df.shape[0]))\n",
    "                                if (not np.any(np.where((index_pair[:, 0] == i) & (index_pair[:, 1] == j)))) and random.randrange(0, 100) == 0\n",
    "                              ]"
   ]
  },
  {
   "cell_type": "code",
   "execution_count": 99,
   "metadata": {},
   "outputs": [],
   "source": [
    "unmatch_sampled_cosine_similarities = np.vstack(unmatch_sampled_cosine_similarities)"
   ]
  },
  {
   "cell_type": "code",
   "execution_count": 100,
   "metadata": {},
   "outputs": [
    {
     "data": {
      "text/plain": [
       "(44228, 1)"
      ]
     },
     "execution_count": 100,
     "metadata": {},
     "output_type": "execute_result"
    }
   ],
   "source": [
    "unmatch_sampled_cosine_similarities.shape"
   ]
  },
  {
   "cell_type": "code",
   "execution_count": 1,
   "metadata": {},
   "outputs": [],
   "source": [
    "import seaborn as sns"
   ]
  },
  {
   "cell_type": "code",
   "execution_count": 102,
   "metadata": {},
   "outputs": [],
   "source": [
    "import matplotlib.pyplot as plt"
   ]
  },
  {
   "cell_type": "code",
   "execution_count": 103,
   "metadata": {},
   "outputs": [
    {
     "name": "stderr",
     "output_type": "stream",
     "text": [
      "/home/ec2-user/anaconda3/envs/pytorch_p36/lib/python3.6/site-packages/matplotlib/axes/_axes.py:6571: UserWarning: The 'normed' kwarg is deprecated, and has been replaced by the 'density' kwarg.\n",
      "  warnings.warn(\"The 'normed' kwarg is deprecated, and has been \"\n"
     ]
    },
    {
     "data": {
      "text/plain": [
       "([array([0.86615756, 2.44517046, 1.76297556, 1.18809223, 1.13443645,\n",
       "         0.86615756, 0.551888  , 0.44457645, 0.45990667, 0.24528356]),\n",
       "  array([0.04596155, 1.02399632, 1.83192829, 1.62577721, 1.1391255 ,\n",
       "         0.84510675, 0.74372098, 0.82235128, 0.87845141, 1.0082252 ])],\n",
       " array([0.01081705, 0.11117186, 0.21152667, 0.31188148, 0.41223629,\n",
       "        0.5125911 , 0.61294591, 0.71330072, 0.81365553, 0.91401034,\n",
       "        1.01436515]),\n",
       " <a list of 2 Lists of Patches objects>)"
      ]
     },
     "execution_count": 103,
     "metadata": {},
     "output_type": "execute_result"
    },
    {
     "data": {
      "image/png": "[encoded data removed]",
      "text/plain": [
       "<Figure size 432x288 with 1 Axes>"
      ]
     },
     "metadata": {},
     "output_type": "display_data"
    }
   ],
   "source": [
    "plt.hist([match_cosine_similariies, unmatch_sampled_cosine_similarities], color=['r','b'], alpha=0.5, normed=True)"
   ]
  },
  {
   "cell_type": "markdown",
   "metadata": {},
   "source": [
    "It seems there are in the samller than 0.2 but larger than 0.8.   "
   ]
  },
  {
   "cell_type": "markdown",
   "metadata": {},
   "source": [
    "# k-nn"
   ]
  },
  {
   "cell_type": "code",
   "execution_count": 29,
   "metadata": {},
   "outputs": [],
   "source": [
    "from sklearn.neighbors import NearestNeighbors"
   ]
  },
  {
   "cell_type": "code",
   "execution_count": 30,
   "metadata": {},
   "outputs": [],
   "source": [
    "import numpy as np"
   ]
  },
  {
   "cell_type": "code",
   "execution_count": 31,
   "metadata": {},
   "outputs": [],
   "source": [
    "from feature import pipelines"
   ]
  },
  {
   "cell_type": "code",
   "execution_count": 32,
   "metadata": {},
   "outputs": [],
   "source": [
    "from sklearn.decomposition import TruncatedSVD"
   ]
  },
  {
   "cell_type": "code",
   "execution_count": 33,
   "metadata": {},
   "outputs": [],
   "source": [
    "svd_pipelines = pipelines.ConcatPipeline([(\"svd\", TruncatedSVD(n_components=100))])"
   ]
  },
  {
   "cell_type": "code",
   "execution_count": 34,
   "metadata": {},
   "outputs": [],
   "source": [
    "compress_feature = svd_pipelines.fit_transform(feature_matrixs)"
   ]
  },
  {
   "cell_type": "code",
   "execution_count": 35,
   "metadata": {},
   "outputs": [],
   "source": [
    "knn_pipeline = pipelines.ConcatPipeline([(\"knn\", NearestNeighbors(n_neighbors=30, algorithm='ball_tree'))])"
   ]
  },
  {
   "cell_type": "code",
   "execution_count": 36,
   "metadata": {},
   "outputs": [
    {
     "data": {
      "text/plain": [
       "ConcatPipeline(memory=None,\n",
       "        steps=[('knn', NearestNeighbors(algorithm='ball_tree', leaf_size=30, metric='minkowski',\n",
       "         metric_params=None, n_jobs=1, n_neighbors=30, p=2, radius=1.0))])"
      ]
     },
     "execution_count": 36,
     "metadata": {},
     "output_type": "execute_result"
    }
   ],
   "source": [
    "knn_pipeline.fit(compress_feature)"
   ]
  },
  {
   "cell_type": "code",
   "execution_count": 37,
   "metadata": {},
   "outputs": [
    {
     "data": {
      "text/plain": [
       "numpy.ndarray"
      ]
     },
     "execution_count": 37,
     "metadata": {},
     "output_type": "execute_result"
    }
   ],
   "source": [
    "type(compress_feature[0])"
   ]
  },
  {
   "cell_type": "code",
   "execution_count": 38,
   "metadata": {},
   "outputs": [],
   "source": [
    "distances, indices = knn_pipeline.steps[0][1].kneighbors(np.vstack(compress_feature))"
   ]
  },
  {
   "cell_type": "code",
   "execution_count": 39,
   "metadata": {},
   "outputs": [],
   "source": [
    "amazon_size = data.amazon_df.shape[0]"
   ]
  },
  {
   "cell_type": "code",
   "execution_count": 40,
   "metadata": {},
   "outputs": [],
   "source": [
    "nn_offsets = np.ones((30)) * amazon_size"
   ]
  },
  {
   "cell_type": "code",
   "execution_count": 41,
   "metadata": {},
   "outputs": [],
   "source": [
    "def in_neighbor(row):\n",
    "    nns = indices[row[0]]\n",
    "    return np.isin(row[1], nns - nn_offsets)"
   ]
  },
  {
   "cell_type": "code",
   "execution_count": 42,
   "metadata": {},
   "outputs": [],
   "source": [
    "in_knns = np.apply_along_axis(arr=index_pair, func1d=in_neighbor, axis=1)"
   ]
  },
  {
   "cell_type": "code",
   "execution_count": 43,
   "metadata": {},
   "outputs": [
    {
     "data": {
      "text/plain": [
       "0.06538461538461539"
      ]
     },
     "execution_count": 43,
     "metadata": {},
     "output_type": "execute_result"
    }
   ],
   "source": [
    "## ratio of the neghbors including the matched entity\n",
    "in_knns.sum() / in_knns.shape[0]"
   ]
  },
  {
   "cell_type": "markdown",
   "metadata": {},
   "source": [
    "knn with Scdv features compressed by TruncatedSVD cannot find most of the correct neighbors (= matched entities) for each instance."
   ]
  },
  {
   "cell_type": "code",
   "execution_count": null,
   "metadata": {},
   "outputs": [],
   "source": []
  }
 ],
 "metadata": {
  "kernelspec": {
   "display_name": "Environment (conda_pytorch_p36)",
   "language": "python",
   "name": "conda_pytorch_p36"
  },
  "language_info": {
   "codemirror_mode": {
    "name": "ipython",
    "version": 3
   },
   "file_extension": ".py",
   "mimetype": "text/x-python",
   "name": "python",
   "nbconvert_exporter": "python",
   "pygments_lexer": "ipython3",
   "version": "3.6.6"
  }
 },
 "nbformat": 4,
 "nbformat_minor": 2
}
