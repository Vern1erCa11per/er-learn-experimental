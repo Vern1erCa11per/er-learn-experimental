{
 "cells": [
  {
   "cell_type": "code",
   "execution_count": 1,
   "metadata": {},
   "outputs": [],
   "source": [
    "%load_ext autoreload\n",
    "%autoreload 2"
   ]
  },
  {
   "cell_type": "code",
   "execution_count": 2,
   "metadata": {},
   "outputs": [],
   "source": [
    "import pandas as pd\n",
    "\n",
    "import numpy as np\n",
    "\n",
    "import sys"
   ]
  },
  {
   "cell_type": "code",
   "execution_count": 3,
   "metadata": {},
   "outputs": [],
   "source": [
    "#sys.path.append(\"../../\")\n",
    "import os\n",
    "os.chdir(\"../../\")"
   ]
  },
  {
   "cell_type": "code",
   "execution_count": 4,
   "metadata": {},
   "outputs": [],
   "source": [
    "import logging"
   ]
  },
  {
   "cell_type": "code",
   "execution_count": 5,
   "metadata": {},
   "outputs": [],
   "source": [
    "logger = logging.getLogger()"
   ]
  },
  {
   "cell_type": "code",
   "execution_count": 6,
   "metadata": {},
   "outputs": [],
   "source": [
    "logger.setLevel(logging.INFO)"
   ]
  },
  {
   "cell_type": "code",
   "execution_count": 7,
   "metadata": {},
   "outputs": [],
   "source": [
    "handler = logging.StreamHandler(sys.stdout)"
   ]
  },
  {
   "cell_type": "code",
   "execution_count": 8,
   "metadata": {},
   "outputs": [],
   "source": [
    "logger.addHandler(handler)"
   ]
  },
  {
   "cell_type": "markdown",
   "metadata": {},
   "source": [
    "#  load data"
   ]
  },
  {
   "cell_type": "code",
   "execution_count": 9,
   "metadata": {},
   "outputs": [],
   "source": [
    "from benchdata.dblp_scholar_citations import DblpGoogleScholarCitationsData"
   ]
  },
  {
   "cell_type": "code",
   "execution_count": 37,
   "metadata": {},
   "outputs": [],
   "source": [
    "data = DblpGoogleScholarCitationsData()"
   ]
  },
  {
   "cell_type": "code",
   "execution_count": 39,
   "metadata": {},
   "outputs": [],
   "source": [
    "data.load()"
   ]
  },
  {
   "cell_type": "code",
   "execution_count": 40,
   "metadata": {},
   "outputs": [],
   "source": [
    "data.default_fillna()"
   ]
  },
  {
   "cell_type": "code",
   "execution_count": 13,
   "metadata": {},
   "outputs": [],
   "source": [
    "import fastText"
   ]
  },
  {
   "cell_type": "code",
   "execution_count": 14,
   "metadata": {},
   "outputs": [],
   "source": [
    "from zipfile import ZipFile"
   ]
  },
  {
   "cell_type": "code",
   "execution_count": 16,
   "metadata": {},
   "outputs": [],
   "source": [
    "fast_text_model_path = \"data/pretrained/wiki-news-300d-1M-subword.bin\""
   ]
  },
  {
   "cell_type": "code",
   "execution_count": 17,
   "metadata": {},
   "outputs": [],
   "source": [
    "model = fastText.load_model(fast_text_model_path)"
   ]
  },
  {
   "cell_type": "code",
   "execution_count": 18,
   "metadata": {},
   "outputs": [],
   "source": [
    "from feature import pipelines"
   ]
  },
  {
   "cell_type": "code",
   "execution_count": 19,
   "metadata": {},
   "outputs": [],
   "source": [
    "from models import scdv"
   ]
  },
  {
   "cell_type": "code",
   "execution_count": 17,
   "metadata": {},
   "outputs": [
    {
     "data": {
      "text/plain": [
       "[{'dblp': 'title', 'scholar': 'title'},\n",
       " {'dblp': 'authors', 'scholar': 'authors'},\n",
       " {'dblp': 'venue', 'scholar': 'venue'},\n",
       " {'dblp': 'year', 'scholar': 'year'}]"
      ]
     },
     "execution_count": 17,
     "metadata": {},
     "output_type": "execute_result"
    }
   ],
   "source": [
    "data.KEY_COLUMN_PAIRS"
   ]
  },
  {
   "cell_type": "markdown",
   "metadata": {},
   "source": [
    "remove year, to check the  text features "
   ]
  },
  {
   "cell_type": "code",
   "execution_count": 13,
   "metadata": {},
   "outputs": [],
   "source": [
    "key_columns = [list(pair_dict.values()) for pair_dict in data.KEY_COLUMN_PAIRS[:-1]]"
   ]
  },
  {
   "cell_type": "markdown",
   "metadata": {},
   "source": [
    "# train scdv"
   ]
  },
  {
   "cell_type": "code",
   "execution_count": 22,
   "metadata": {},
   "outputs": [],
   "source": [
    "pipeline_func = lambda : pipelines.ConcatPipeline([(\"scdv\", scdv.Scdv(word_emb_func=model.get_word_vector, n_components=10, sparse_threshold_p=0.04, verbose=2))])"
   ]
  },
  {
   "cell_type": "code",
   "execution_count": 23,
   "metadata": {},
   "outputs": [],
   "source": [
    "pipeline_func_map_list = [pipeline_func for i in range(len(key_columns))]"
   ]
  },
  {
   "cell_type": "code",
   "execution_count": 24,
   "metadata": {},
   "outputs": [],
   "source": [
    "extractor = pipelines.KeyColumnFeatureExtractor(key_column_correspondences=key_columns, pipeline_func_map_list=pipeline_func_map_list,  \n",
    "                                                pipeline_save_dir=\"../result\")"
   ]
  },
  {
   "cell_type": "code",
   "execution_count": 25,
   "metadata": {},
   "outputs": [
    {
     "name": "stdout",
     "output_type": "stream",
     "text": [
      "extracting features from ['title', 'title']\n",
      "creating dictionary and computing idf...\n",
      "clustering in-vocabulary words (size: 46590) ...\n",
      "Initialization 0\n",
      "  Iteration 0\t time lapse 9.39965s\t ll change inf\n",
      "  Iteration 10\t time lapse 54.36003s\t ll change 0.05381\n",
      "  Iteration 20\t time lapse 54.21361s\t ll change 0.00938\n",
      "  Iteration 30\t time lapse 54.21595s\t ll change 0.00745\n",
      "  Iteration 40\t time lapse 54.29864s\t ll change 0.00281\n",
      "  Iteration 50\t time lapse 54.55032s\t ll change 0.00245\n",
      "Initialization converged: True\t time lapse 302.75540s\t ll 940.12874\n",
      "getting word-topic_vectors...\n",
      "computing threshold to make sparse...\n",
      "fitting has finished!!\n",
      "extracting features from ['authors', 'authors']\n",
      "creating dictionary and computing idf...\n",
      "clustering in-vocabulary words (size: 49260) ...\n",
      "Initialization 0\n",
      "  Iteration 0\t time lapse 10.52038s\t ll change inf\n",
      "  Iteration 10\t time lapse 50.38341s\t ll change 0.04977\n",
      "  Iteration 20\t time lapse 50.76849s\t ll change 0.00969\n",
      "  Iteration 30\t time lapse 50.63509s\t ll change 0.00317\n",
      "  Iteration 40\t time lapse 50.66145s\t ll change 0.00241\n",
      "  Iteration 50\t time lapse 50.77029s\t ll change 0.00093\n",
      "Initialization converged: True\t time lapse 263.73943s\t ll 979.60334\n",
      "getting word-topic_vectors...\n",
      "computing threshold to make sparse...\n",
      "fitting has finished!!\n",
      "extracting features from ['venue', 'venue']\n",
      "creating dictionary and computing idf...\n",
      "clustering in-vocabulary words (size: 7380) ...\n",
      "Initialization 0\n",
      "  Iteration 0\t time lapse 1.00263s\t ll change inf\n",
      "  Iteration 10\t time lapse 5.05848s\t ll change 0.01023\n",
      "Initialization converged: True\t time lapse 9.62551s\t ll 959.05934\n",
      "getting word-topic_vectors...\n",
      "computing threshold to make sparse...\n",
      "fitting has finished!!\n"
     ]
    },
    {
     "data": {
      "text/plain": [
       "<feature.pipelines.KeyColumnFeatureExtractor at 0x7f4de7399588>"
      ]
     },
     "execution_count": 25,
     "metadata": {},
     "output_type": "execute_result"
    }
   ],
   "source": [
    "extractor.fit([data.dblp_df, data.scholar_df])"
   ]
  },
  {
   "cell_type": "code",
   "execution_count": 33,
   "metadata": {},
   "outputs": [],
   "source": [
    "feature_matrixs = extractor.transform([data.dblp_df, data.scholar_df]) "
   ]
  },
  {
   "cell_type": "code",
   "execution_count": 17,
   "metadata": {},
   "outputs": [],
   "source": [
    "import scipy as sp"
   ]
  },
  {
   "cell_type": "code",
   "execution_count": 18,
   "metadata": {},
   "outputs": [],
   "source": [
    "import scipy.sparse as sparse"
   ]
  },
  {
   "cell_type": "code",
   "execution_count": 19,
   "metadata": {},
   "outputs": [],
   "source": [
    "from pathlib import Path"
   ]
  },
  {
   "cell_type": "markdown",
   "metadata": {},
   "source": [
    "# save features"
   ]
  },
  {
   "cell_type": "code",
   "execution_count": 31,
   "metadata": {},
   "outputs": [],
   "source": [
    "Path(\"result/citations\").mkdir(parents=True, exist_ok=True)"
   ]
  },
  {
   "cell_type": "code",
   "execution_count": 34,
   "metadata": {},
   "outputs": [],
   "source": [
    "data_names = [\"dblp\", \"scholar\"] \n",
    "for i, feature_set in enumerate(feature_matrixs):\n",
    "    for j, feature in enumerate(feature_set):\n",
    "        sp.sparse.save_npz(\"../result/{}_{}_scdv.npz\".format(data_names[i], key_columns[j][i]), feature)"
   ]
  },
  {
   "cell_type": "code",
   "execution_count": 35,
   "metadata": {},
   "outputs": [],
   "source": [
    "feature_matrixs = [sp.sparse.hstack(feature_matrix).tocsr() for feature_matrix in feature_matrixs]"
   ]
  },
  {
   "cell_type": "code",
   "execution_count": 36,
   "metadata": {},
   "outputs": [
    {
     "name": "stdout",
     "output_type": "stream",
     "text": [
      "authors_authors_concat_model.pickle  scholar_title_scdv.npz\r\n",
      "dblp_authors_scdv.npz\t\t     scholar_venue_scdv.npz\r\n",
      "dblp_title_scdv.npz\t\t     title_title_concat_model.pickle\r\n",
      "dblp_venue_scdv.npz\t\t     venue_venue_concat_model.pickle\r\n",
      "scholar_authors_scdv.npz\r\n"
     ]
    }
   ],
   "source": [
    "!ls ../result"
   ]
  },
  {
   "cell_type": "code",
   "execution_count": null,
   "metadata": {},
   "outputs": [],
   "source": [
    "del scdv"
   ]
  },
  {
   "cell_type": "code",
   "execution_count": null,
   "metadata": {},
   "outputs": [],
   "source": [
    "del extractor"
   ]
  },
  {
   "cell_type": "markdown",
   "metadata": {},
   "source": [
    "# check cosine similarity of same entity"
   ]
  },
  {
   "cell_type": "code",
   "execution_count": 45,
   "metadata": {},
   "outputs": [],
   "source": [
    "index_pair = data.get_perfect_match_index(True)"
   ]
  },
  {
   "cell_type": "code",
   "execution_count": 38,
   "metadata": {},
   "outputs": [
    {
     "data": {
      "text/plain": [
       "array([[ 1909, 24847],\n",
       "       [ 2080, 44932],\n",
       "       [ 2509,  1509]])"
      ]
     },
     "execution_count": 38,
     "metadata": {},
     "output_type": "execute_result"
    }
   ],
   "source": [
    "index_pair[:3]"
   ]
  },
  {
   "cell_type": "code",
   "execution_count": 15,
   "metadata": {},
   "outputs": [],
   "source": [
    "data_names = [\"dblp\", \"scholar\"]"
   ]
  },
  {
   "cell_type": "code",
   "execution_count": 20,
   "metadata": {},
   "outputs": [],
   "source": [
    "feature_matrixs = [[sparse.load_npz(\"../result/{}_{}_scdv.npz\".format(data_name, key_columns[j][i])) for j in range(len(key_columns))] for \n",
    "                   i, data_name in enumerate(data_names)]"
   ]
  },
  {
   "cell_type": "code",
   "execution_count": 21,
   "metadata": {},
   "outputs": [],
   "source": [
    "from scipy.spatial.distance import cosine"
   ]
  },
  {
   "cell_type": "code",
   "execution_count": 30,
   "metadata": {},
   "outputs": [],
   "source": [
    "feature_matrixs = [sp.sparse.hstack(feature_matrix).tocsr() for feature_matrix in feature_matrixs]"
   ]
  },
  {
   "cell_type": "code",
   "execution_count": 23,
   "metadata": {},
   "outputs": [
    {
     "data": {
      "text/plain": [
       "(2616, 9000)"
      ]
     },
     "execution_count": 23,
     "metadata": {},
     "output_type": "execute_result"
    }
   ],
   "source": [
    "feature_matrixs[0].shape"
   ]
  },
  {
   "cell_type": "code",
   "execution_count": 24,
   "metadata": {},
   "outputs": [
    {
     "data": {
      "text/plain": [
       "(64263, 9000)"
      ]
     },
     "execution_count": 24,
     "metadata": {},
     "output_type": "execute_result"
    }
   ],
   "source": [
    "feature_matrixs[1].shape"
   ]
  },
  {
   "cell_type": "code",
   "execution_count": 25,
   "metadata": {},
   "outputs": [],
   "source": [
    "def distance_between_entity(row):\n",
    "    return cosine(feature_matrixs[0][row[0]].todense(), feature_matrixs[1][row[1]].todense())"
   ]
  },
  {
   "cell_type": "code",
   "execution_count": 28,
   "metadata": {},
   "outputs": [],
   "source": [
    "match_cosine_similariies = np.apply_along_axis(arr=index_pair, func1d=distance_between_entity, axis=1)"
   ]
  },
  {
   "cell_type": "code",
   "execution_count": 29,
   "metadata": {},
   "outputs": [
    {
     "data": {
      "text/plain": [
       "array([0.19229697, 0.17693594, 0.35879698, 0.45377624, 0.03961731,\n",
       "       0.        , 0.40684512, 0.46699201, 0.67415838, 0.67268337])"
      ]
     },
     "execution_count": 29,
     "metadata": {},
     "output_type": "execute_result"
    }
   ],
   "source": [
    "match_cosine_similariies[:10]"
   ]
  },
  {
   "cell_type": "code",
   "execution_count": 48,
   "metadata": {},
   "outputs": [],
   "source": [
    "import itertools"
   ]
  },
  {
   "cell_type": "code",
   "execution_count": 49,
   "metadata": {},
   "outputs": [],
   "source": [
    "import random"
   ]
  },
  {
   "cell_type": "code",
   "execution_count": 51,
   "metadata": {},
   "outputs": [],
   "source": [
    "all_pair_nums = data.dblp_df.shape[0] * data.scholar_df.shape[0] "
   ]
  },
  {
   "cell_type": "code",
   "execution_count": 52,
   "metadata": {},
   "outputs": [
    {
     "data": {
      "text/plain": [
       "168112008"
      ]
     },
     "execution_count": 52,
     "metadata": {},
     "output_type": "execute_result"
    }
   ],
   "source": [
    "all_pair_nums"
   ]
  },
  {
   "cell_type": "markdown",
   "metadata": {},
   "source": [
    "There are too many unmatched pairs. Therefore, undersample (0nly 0.1%)"
   ]
  },
  {
   "cell_type": "code",
   "execution_count": 54,
   "metadata": {},
   "outputs": [],
   "source": [
    "unmatch_sampled_cosine_similarities = [cosine(feature_matrixs[0][i].todense(), feature_matrixs[1][j].todense()) for i, j in itertools.product(range(data.dblp_df.shape[0]), range(data.scholar_df.shape[0]))\n",
    "                                if (not np.any(np.where((index_pair[:, 0] == i) & (index_pair[:, 1] == j)))) and random.randrange(0, 1000) == 0\n",
    "                              ]"
   ]
  },
  {
   "cell_type": "code",
   "execution_count": 55,
   "metadata": {},
   "outputs": [],
   "source": [
    "unmatch_sampled_cosine_similarities = np.vstack(unmatch_sampled_cosine_similarities)"
   ]
  },
  {
   "cell_type": "code",
   "execution_count": 56,
   "metadata": {},
   "outputs": [
    {
     "data": {
      "text/plain": [
       "(168174, 1)"
      ]
     },
     "execution_count": 56,
     "metadata": {},
     "output_type": "execute_result"
    }
   ],
   "source": [
    "unmatch_sampled_cosine_similarities.shape"
   ]
  },
  {
   "cell_type": "code",
   "execution_count": 57,
   "metadata": {},
   "outputs": [],
   "source": [
    "import seaborn as sns"
   ]
  },
  {
   "cell_type": "code",
   "execution_count": 58,
   "metadata": {},
   "outputs": [],
   "source": [
    "import matplotlib.pyplot as plt"
   ]
  },
  {
   "cell_type": "code",
   "execution_count": 59,
   "metadata": {},
   "outputs": [
    {
     "name": "stderr",
     "output_type": "stream",
     "text": [
      "/home/ec2-user/anaconda3/envs/pytorch_p36/lib/python3.6/site-packages/matplotlib/axes/_axes.py:6571: UserWarning: The 'normed' kwarg is deprecated, and has been replaced by the 'density' kwarg.\n",
      "  warnings.warn(\"The 'normed' kwarg is deprecated, and has been \"\n"
     ]
    },
    {
     "data": {
      "text/plain": [
       "([array([1.9440091 , 1.71164437, 1.85564505, 1.5103707 , 0.91473155,\n",
       "         0.52200244, 0.21436464, 0.06218211, 0.01472734, 0.        ]),\n",
       "  array([0.00000000e+00, 3.12165161e-04, 9.83320258e-03, 1.20547780e-01,\n",
       "         6.33643250e-01, 1.72944702e+00, 2.82181698e+00, 2.54071225e+00,\n",
       "         8.93156554e-01, 2.08110108e-04])],\n",
       " array([0.        , 0.11428993, 0.22857986, 0.34286979, 0.45715972,\n",
       "        0.57144965, 0.68573958, 0.8000295 , 0.91431943, 1.02860936,\n",
       "        1.14289929]),\n",
       " <a list of 2 Lists of Patches objects>)"
      ]
     },
     "execution_count": 59,
     "metadata": {},
     "output_type": "execute_result"
    },
    {
     "data": {
      "image/png": "[encoded data removed]",
      "text/plain": [
       "<Figure size 432x288 with 1 Axes>"
      ]
     },
     "metadata": {},
     "output_type": "display_data"
    }
   ],
   "source": [
    "plt.hist([match_cosine_similariies, unmatch_sampled_cosine_similarities], color=['r','b'], alpha=0.5, normed=True)"
   ]
  },
  {
   "cell_type": "markdown",
   "metadata": {},
   "source": [
    "Even at 1.0, there are some matching entities. "
   ]
  },
  {
   "cell_type": "code",
   "execution_count": 68,
   "metadata": {},
   "outputs": [],
   "source": [
    "del match_cosine_similariies"
   ]
  },
  {
   "cell_type": "code",
   "execution_count": 69,
   "metadata": {},
   "outputs": [],
   "source": [
    "del unmatch_sampled_cosine_similarities"
   ]
  },
  {
   "cell_type": "markdown",
   "metadata": {},
   "source": [
    "# k-nn"
   ]
  },
  {
   "cell_type": "code",
   "execution_count": 25,
   "metadata": {},
   "outputs": [],
   "source": [
    "del data"
   ]
  },
  {
   "cell_type": "code",
   "execution_count": 24,
   "metadata": {},
   "outputs": [],
   "source": [
    "from sklearn.neighbors import NearestNeighbors"
   ]
  },
  {
   "cell_type": "code",
   "execution_count": 23,
   "metadata": {},
   "outputs": [],
   "source": [
    "import numpy as np"
   ]
  },
  {
   "cell_type": "code",
   "execution_count": 22,
   "metadata": {},
   "outputs": [],
   "source": [
    "from feature import pipelines"
   ]
  },
  {
   "cell_type": "code",
   "execution_count": 27,
   "metadata": {},
   "outputs": [],
   "source": [
    "from sklearn.decomposition import TruncatedSVD"
   ]
  },
  {
   "cell_type": "code",
   "execution_count": 28,
   "metadata": {},
   "outputs": [],
   "source": [
    "svd_pipelines = pipelines.ConcatPipeline([(\"svd\", TruncatedSVD(n_components=100))])"
   ]
  },
  {
   "cell_type": "code",
   "execution_count": 31,
   "metadata": {},
   "outputs": [],
   "source": [
    "compress_feature = svd_pipelines.fit_transform(feature_matrixs)"
   ]
  },
  {
   "cell_type": "code",
   "execution_count": 32,
   "metadata": {},
   "outputs": [],
   "source": [
    "knn_pipeline = pipelines.ConcatPipeline([(\"knn\", NearestNeighbors(n_neighbors=30, algorithm='brute'))])"
   ]
  },
  {
   "cell_type": "code",
   "execution_count": 33,
   "metadata": {},
   "outputs": [
    {
     "data": {
      "text/plain": [
       "ConcatPipeline(memory=None,\n",
       "        steps=[('knn', NearestNeighbors(algorithm='brute', leaf_size=30, metric='minkowski',\n",
       "         metric_params=None, n_jobs=1, n_neighbors=30, p=2, radius=1.0))])"
      ]
     },
     "execution_count": 33,
     "metadata": {},
     "output_type": "execute_result"
    }
   ],
   "source": [
    "knn_pipeline.fit(compress_feature)"
   ]
  },
  {
   "cell_type": "code",
   "execution_count": 34,
   "metadata": {},
   "outputs": [],
   "source": [
    "knn = knn_pipeline.steps[0][1]"
   ]
  },
  {
   "cell_type": "code",
   "execution_count": 35,
   "metadata": {},
   "outputs": [],
   "source": [
    "del feature_matrixs"
   ]
  },
  {
   "cell_type": "code",
   "execution_count": 36,
   "metadata": {},
   "outputs": [],
   "source": [
    "distances, indices = knn.kneighbors(compress_feature[0])"
   ]
  },
  {
   "cell_type": "code",
   "execution_count": 41,
   "metadata": {},
   "outputs": [],
   "source": [
    "dblp_size = data.dblp_df.shape[0]"
   ]
  },
  {
   "cell_type": "code",
   "execution_count": 42,
   "metadata": {},
   "outputs": [],
   "source": [
    "nn_offsets = np.ones((30)) * dblp_size"
   ]
  },
  {
   "cell_type": "code",
   "execution_count": 43,
   "metadata": {},
   "outputs": [],
   "source": [
    "def in_neighbor(row):\n",
    "    nns = indices[row[0]]\n",
    "    return np.isin(row[1], nns - nn_offsets)"
   ]
  },
  {
   "cell_type": "code",
   "execution_count": 46,
   "metadata": {},
   "outputs": [],
   "source": [
    "in_knns = np.apply_along_axis(arr=index_pair, func1d=in_neighbor, axis=1)"
   ]
  },
  {
   "cell_type": "code",
   "execution_count": 47,
   "metadata": {},
   "outputs": [
    {
     "data": {
      "text/plain": [
       "0.31569104170562934"
      ]
     },
     "execution_count": 47,
     "metadata": {},
     "output_type": "execute_result"
    }
   ],
   "source": [
    "## ratio of the neghbors including the matched entity\n",
    "in_knns.sum() / in_knns.shape[0]"
   ]
  },
  {
   "cell_type": "markdown",
   "metadata": {},
   "source": [
    "knn with Scdv features compressed by TruncatedSVD cannot find most of the correct neighbors (= matched entities) for each instance.  \n",
    "It is thought there are 2 main reasons.\n",
    "1. too samll samples to learn high-dimensional scdv. (number of scdv dimension >> number of samples) \n",
    "2. The nonlinearity in the entity matching task cause the difficulty for knn.  "
   ]
  }
 ],
 "metadata": {
  "kernelspec": {
   "display_name": "Environment (conda_pytorch_p36)",
   "language": "python",
   "name": "conda_pytorch_p36"
  },
  "language_info": {
   "codemirror_mode": {
    "name": "ipython",
    "version": 3
   },
   "file_extension": ".py",
   "mimetype": "text/x-python",
   "name": "python",
   "nbconvert_exporter": "python",
   "pygments_lexer": "ipython3",
   "version": "3.6.6"
  }
 },
 "nbformat": 4,
 "nbformat_minor": 2
}
